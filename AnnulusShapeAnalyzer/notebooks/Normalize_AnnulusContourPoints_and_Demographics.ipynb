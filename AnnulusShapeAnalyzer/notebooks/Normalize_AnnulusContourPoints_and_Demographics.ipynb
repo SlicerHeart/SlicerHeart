{
 "cells": [
  {
   "cell_type": "code",
   "execution_count": null,
   "metadata": {},
   "outputs": [],
   "source": [
    "import pandas as pd\n",
    "import functools"
   ]
  },
  {
   "cell_type": "markdown",
   "metadata": {},
   "source": [
    "## Fixing associated filenames from BatchExport\n",
    "\n",
    "Assuming that the Filename column of the batch exported AnnulusContourPoints.csv is using the name of the mrb file. \n",
    "\n",
    "We have a naming convention for mrb files: `{redcap identifier}-{echo number}_suffix.mrb` (e.g. `14800-00003-01_CFP_Validated_AC`)\n",
    "\n",
    "We want to remove the suffix here, so we will just split by `_` and use the first element."
   ]
  },
  {
   "cell_type": "code",
   "execution_count": null,
   "metadata": {},
   "outputs": [],
   "source": [
    "points_in_csv = \"/Volumes/GoogleDrive/Shared drives/Shape-Kitware-PERK/Data/HLHS/Comprehensive_Fontan_Data/AnnulusContourPoints_HLHS_orig.csv\"\n",
    "demo_in_csv = \"/Volumes/GoogleDrive/Shared drives/Shape-Kitware-PERK/Data/HLHS/Comprehensive_Fontan_Data/Demographics_NoPHI_orig.csv\"\n",
    "\n",
    "points_df = pd.read_csv(points_in_csv)\n",
    "demo_df = pd.read_csv(demo_in_csv)\n",
    "\n",
    "# output into local jupyter notebook location\n",
    "points_out_csv = \"AnnulusContourPoints.csv\"\n",
    "demo_out_csv = \"Demographics.csv\""
   ]
  },
  {
   "cell_type": "code",
   "execution_count": null,
   "metadata": {},
   "outputs": [],
   "source": [
    "# get an idea of how the Filename column looks\n",
    "points_df.head()"
   ]
  },
  {
   "cell_type": "code",
   "execution_count": null,
   "metadata": {},
   "outputs": [],
   "source": [
    "# splitting Filename from the AnnulusContourPoints by _ and only using the first element\n",
    "points_df[\"Filename\"] = points_df[\"Filename\"].apply(lambda s: s.split(\"_\")[0])\n",
    "points_df.head()"
   ]
  },
  {
   "cell_type": "code",
   "execution_count": null,
   "metadata": {},
   "outputs": [],
   "source": [
    "# get an idea of how the demographics look like and identify the Filename column\n",
    "# noticing that the Filename within the demographics is just the redcap identifier\n",
    "demo_df.head()"
   ]
  },
  {
   "cell_type": "code",
   "execution_count": null,
   "metadata": {},
   "outputs": [],
   "source": [
    "l1 = sorted(points_df[\"Filename\"].unique())\n",
    "l2 = sorted(demo_df[\"Filename\"].unique())"
   ]
  },
  {
   "cell_type": "code",
   "execution_count": null,
   "metadata": {},
   "outputs": [],
   "source": [
    "if functools.reduce(lambda x, y : x == y, map(lambda p, q: p == q,l1,l2), True): \n",
    "    print (\"The lists l1 and l2 are the same\") \n",
    "else: \n",
    "    print (\"The lists l1 and l2 are not the same\") "
   ]
  },
  {
   "cell_type": "code",
   "execution_count": null,
   "metadata": {},
   "outputs": [],
   "source": [
    "points_df.to_csv(points_out_csv, index=False)"
   ]
  },
  {
   "cell_type": "markdown",
   "metadata": {},
   "source": [
    "## Replacing TR severity with numerical information"
   ]
  },
  {
   "cell_type": "code",
   "execution_count": null,
   "metadata": {},
   "outputs": [],
   "source": [
    "group_colum_name = \"TR_Severity\"\n",
    "groups = {\n",
    "    'Trivial': 0,\n",
    "    'Mild': 1,\n",
    "    'Moderate': 2,\n",
    "    'Severe': 3,\n",
    "}\n",
    "assert len(demo_df[\"TR_Severity\"].unique()) == len(groups)\n",
    "demo_df[group_colum_name] = [groups[val] for val in demo_df[group_colum_name].tolist()]"
   ]
  },
  {
   "cell_type": "code",
   "execution_count": null,
   "metadata": {},
   "outputs": [],
   "source": [
    "# cross check TR severity column for numerical values\n",
    "demo_df.head()"
   ]
  },
  {
   "cell_type": "code",
   "execution_count": null,
   "metadata": {},
   "outputs": [],
   "source": [
    "demo_df.to_csv(demo_out_csv, index=False)"
   ]
  }
 ],
 "metadata": {
  "kernelspec": {
   "display_name": "Python 3",
   "language": "python",
   "name": "python3"
  },
  "language_info": {
   "codemirror_mode": {
    "name": "ipython",
    "version": 3
   },
   "file_extension": ".py",
   "mimetype": "text/x-python",
   "name": "python",
   "nbconvert_exporter": "python",
   "pygments_lexer": "ipython3",
   "version": "3.7.7"
  }
 },
 "nbformat": 4,
 "nbformat_minor": 4
}
